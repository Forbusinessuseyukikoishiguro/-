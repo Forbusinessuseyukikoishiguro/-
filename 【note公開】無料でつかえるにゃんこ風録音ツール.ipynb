{
  "nbformat": 4,
  "nbformat_minor": 0,
  "metadata": {
    "colab": {
      "provenance": [],
      "authorship_tag": "ABX9TyMLih9ZNEYwcldMV7/pvuum",
      "include_colab_link": true
    },
    "kernelspec": {
      "name": "python3",
      "display_name": "Python 3"
    },
    "language_info": {
      "name": "python"
    }
  },
  "cells": [
    {
      "cell_type": "markdown",
      "metadata": {
        "id": "view-in-github",
        "colab_type": "text"
      },
      "source": [
        "<a href=\"https://colab.research.google.com/github/Forbusinessuseyukikoishiguro/-/blob/main/%E3%80%90note%E5%85%AC%E9%96%8B%E3%80%91%E7%84%A1%E6%96%99%E3%81%A7%E3%81%A4%E3%81%8B%E3%81%88%E3%82%8B%E3%81%AB%E3%82%83%E3%82%93%E3%81%93%E9%A2%A8%E9%8C%B2%E9%9F%B3%E3%83%84%E3%83%BC%E3%83%AB.ipynb\" target=\"_parent\"><img src=\"https://colab.research.google.com/assets/colab-badge.svg\" alt=\"Open In Colab\"/></a>"
      ]
    },
    {
      "cell_type": "code",
      "execution_count": null,
      "metadata": {
        "id": "jhVNHTtgoOhT"
      },
      "outputs": [],
      "source": [
        "無料でつかえるにゃんこ録音ツールニ"
      ]
    },
    {
      "cell_type": "code",
      "source": [
        "from IPython.display import display, HTML\n",
        "import base64\n",
        "import io\n",
        "import os\n",
        "\n",
        "# 録音用のダイアログを表示する関数（にゃんこ風）\n",
        "def record_audio_nyan():\n",
        "    display(HTML('''\n",
        "        <div style=\"font-family: 'Comic Sans MS', cursive; font-size: 18px; margin-bottom: 10px;\">\n",
        "            にゃんにゃん🎤 録音するにゃ！ボタン押してにゃ！\n",
        "        </div>\n",
        "        <button id=\"startBtn\" onclick=\"startRecording()\" style=\"font-size:16px;\">🐾 録音開始にゃ！</button>\n",
        "        <button id=\"stopBtn\" onclick=\"stopRecording()\" disabled style=\"font-size:16px;\">🐾 録音やめるにゃ！</button>\n",
        "        <audio id=\"audio\" controls style=\"display: block; margin-top: 10px;\"></audio>\n",
        "        <div id=\"messageNyan\" style=\"font-family: 'Comic Sans MS', cursive; font-size: 18px; margin-top: 10px;\"></div>\n",
        "\n",
        "        <script>\n",
        "            let mediaRecorder;\n",
        "            let audioChunks = [];\n",
        "            let audioElement = document.getElementById('audio');\n",
        "            let startBtn = document.getElementById('startBtn');\n",
        "            let stopBtn = document.getElementById('stopBtn');\n",
        "            let messageNyan = document.getElementById('messageNyan');\n",
        "\n",
        "            async function startRecording() {\n",
        "                const stream = await navigator.mediaDevices.getUserMedia({ audio: true });\n",
        "                mediaRecorder = new MediaRecorder(stream);\n",
        "                mediaRecorder.start();\n",
        "                mediaRecorder.ondataavailable = event => {\n",
        "                    audioChunks.push(event.data);\n",
        "                };\n",
        "                startBtn.disabled = true;\n",
        "                stopBtn.disabled = false;\n",
        "                messageNyan.innerText = \"にゃんにゃん🎶 録音中にゃ！\";\n",
        "            }\n",
        "\n",
        "            async function stopRecording() {\n",
        "                mediaRecorder.stop();\n",
        "                mediaRecorder.onstop = async () => {\n",
        "                    const audioBlob = new Blob(audioChunks, { type: 'audio/wav' });\n",
        "                    const reader = new FileReader();\n",
        "                    reader.readAsDataURL(audioBlob);\n",
        "                    reader.onloadend = function() {\n",
        "                        const base64data = reader.result.split(',')[1];\n",
        "                        google.colab.kernel.invokeFunction('recordedAudio', [base64data], {});\n",
        "                        audioElement.src = URL.createObjectURL(audioBlob);\n",
        "                        messageNyan.innerText = \"にゃーん！録音完了だにゃ！🐱✨\";\n",
        "                    };\n",
        "                    audioChunks = [];\n",
        "                };\n",
        "                startBtn.disabled = false;\n",
        "                stopBtn.disabled = true;\n",
        "            }\n",
        "        </script>\n",
        "    '''))\n",
        "\n",
        "# Python側で受け取る関数は同じ！\n",
        "from google.colab import output\n",
        "\n",
        "audio_data = None\n",
        "\n",
        "def handle_recorded_audio(base64_audio):\n",
        "    global audio_data\n",
        "    audio_data = base64_audio\n",
        "\n",
        "    audio_bytes = base64.b64decode(base64_audio)\n",
        "    with open('tmp.wav', 'wb') as f:\n",
        "        f.write(audio_bytes)\n",
        "\n",
        "    os.system(\"ffmpeg -y -i tmp.wav -acodec pcm_s16le -ar 44100 recorded_audio.wav\")\n",
        "\n",
        "# コールバック登録\n",
        "output.register_callback('recordedAudio', handle_recorded_audio)\n",
        "\n",
        "# 呼び出し\n",
        "record_audio_nyan()\n"
      ],
      "metadata": {
        "colab": {
          "base_uri": "https://localhost:8080/",
          "height": 172
        },
        "id": "HFiqUB_9oWhL",
        "outputId": "dff31d11-d9ab-4beb-a4cf-b317f63a5fee"
      },
      "execution_count": 2,
      "outputs": [
        {
          "output_type": "display_data",
          "data": {
            "text/plain": [
              "<IPython.core.display.HTML object>"
            ],
            "text/html": [
              "\n",
              "        <div style=\"font-family: 'Comic Sans MS', cursive; font-size: 18px; margin-bottom: 10px;\">\n",
              "            にゃんにゃん🎤 録音するにゃ！ボタン押してにゃ！\n",
              "        </div>\n",
              "        <button id=\"startBtn\" onclick=\"startRecording()\" style=\"font-size:16px;\">🐾 録音開始にゃ！</button>\n",
              "        <button id=\"stopBtn\" onclick=\"stopRecording()\" disabled style=\"font-size:16px;\">🐾 録音やめるにゃ！</button>\n",
              "        <audio id=\"audio\" controls style=\"display: block; margin-top: 10px;\"></audio>\n",
              "        <div id=\"messageNyan\" style=\"font-family: 'Comic Sans MS', cursive; font-size: 18px; margin-top: 10px;\"></div>\n",
              "\n",
              "        <script>\n",
              "            let mediaRecorder;\n",
              "            let audioChunks = [];\n",
              "            let audioElement = document.getElementById('audio');\n",
              "            let startBtn = document.getElementById('startBtn');\n",
              "            let stopBtn = document.getElementById('stopBtn');\n",
              "            let messageNyan = document.getElementById('messageNyan');\n",
              "\n",
              "            async function startRecording() {\n",
              "                const stream = await navigator.mediaDevices.getUserMedia({ audio: true });\n",
              "                mediaRecorder = new MediaRecorder(stream);\n",
              "                mediaRecorder.start();\n",
              "                mediaRecorder.ondataavailable = event => {\n",
              "                    audioChunks.push(event.data);\n",
              "                };\n",
              "                startBtn.disabled = true;\n",
              "                stopBtn.disabled = false;\n",
              "                messageNyan.innerText = \"にゃんにゃん🎶 録音中にゃ！\";\n",
              "            }\n",
              "\n",
              "            async function stopRecording() {\n",
              "                mediaRecorder.stop();\n",
              "                mediaRecorder.onstop = async () => {\n",
              "                    const audioBlob = new Blob(audioChunks, { type: 'audio/wav' });\n",
              "                    const reader = new FileReader();\n",
              "                    reader.readAsDataURL(audioBlob);\n",
              "                    reader.onloadend = function() {\n",
              "                        const base64data = reader.result.split(',')[1];\n",
              "                        google.colab.kernel.invokeFunction('recordedAudio', [base64data], {});\n",
              "                        audioElement.src = URL.createObjectURL(audioBlob);\n",
              "                        messageNyan.innerText = \"にゃーん！録音完了だにゃ！🐱✨\";\n",
              "                    };\n",
              "                    audioChunks = [];\n",
              "                };\n",
              "                startBtn.disabled = false;\n",
              "                stopBtn.disabled = true;\n",
              "            }\n",
              "        </script>\n",
              "    "
            ]
          },
          "metadata": {}
        }
      ]
    },
    {
      "cell_type": "markdown",
      "source": [],
      "metadata": {
        "id": "1vd77DyIoPdZ"
      }
    }
  ]
}
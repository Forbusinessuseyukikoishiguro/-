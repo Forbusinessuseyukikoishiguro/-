{
  "nbformat": 4,
  "nbformat_minor": 0,
  "metadata": {
    "colab": {
      "provenance": [],
      "authorship_tag": "ABX9TyPI9Po9NfSgvXsRJVQVf6tE",
      "include_colab_link": true
    },
    "kernelspec": {
      "name": "python3",
      "display_name": "Python 3"
    },
    "language_info": {
      "name": "python"
    }
  },
  "cells": [
    {
      "cell_type": "markdown",
      "metadata": {
        "id": "view-in-github",
        "colab_type": "text"
      },
      "source": [
        "<a href=\"https://colab.research.google.com/github/Forbusinessuseyukikoishiguro/-/blob/main/%E9%8C%B2%E9%9F%B3%E3%83%87%E3%83%A2%E3%83%86%E3%82%B9%E3%83%88OK.ipynb\" target=\"_parent\"><img src=\"https://colab.research.google.com/assets/colab-badge.svg\" alt=\"Open In Colab\"/></a>"
      ]
    },
    {
      "cell_type": "code",
      "execution_count": 3,
      "metadata": {
        "colab": {
          "base_uri": "https://localhost:8080/",
          "height": 77
        },
        "collapsed": true,
        "id": "0sjELYx0nX6y",
        "outputId": "67779416-e1c4-49ea-ccd3-edad2916493f"
      },
      "outputs": [
        {
          "output_type": "display_data",
          "data": {
            "text/plain": [
              "<IPython.core.display.HTML object>"
            ],
            "text/html": [
              "\n",
              "        <button id=\"startBtn\" onclick=\"startRecording()\">録音開始</button>\n",
              "        <button id=\"stopBtn\" onclick=\"stopRecording()\" disabled>録音停止</button>\n",
              "        <audio id=\"audio\" controls></audio>\n",
              "        <script>\n",
              "            let mediaRecorder;\n",
              "            let audioChunks = [];\n",
              "            let audioElement = document.getElementById('audio');\n",
              "            let startBtn = document.getElementById('startBtn');\n",
              "            let stopBtn = document.getElementById('stopBtn');\n",
              "\n",
              "            async function startRecording() {\n",
              "                const stream = await navigator.mediaDevices.getUserMedia({ audio: true });\n",
              "                mediaRecorder = new MediaRecorder(stream);\n",
              "                mediaRecorder.start();\n",
              "                mediaRecorder.ondataavailable = event => {\n",
              "                    audioChunks.push(event.data);\n",
              "                };\n",
              "                startBtn.disabled = true;\n",
              "                stopBtn.disabled = false;\n",
              "            }\n",
              "\n",
              "            async function stopRecording() {\n",
              "                mediaRecorder.stop();\n",
              "                mediaRecorder.onstop = async () => {\n",
              "                    const audioBlob = new Blob(audioChunks, { type: 'audio/wav' });\n",
              "                    const reader = new FileReader();\n",
              "                    reader.readAsDataURL(audioBlob);  // Base64形式に変換\n",
              "                    reader.onloadend = function() {\n",
              "                        const base64data = reader.result.split(',')[1];  // Base64データ部分のみを取得\n",
              "                        google.colab.kernel.invokeFunction('recordedAudio', [base64data], {});\n",
              "                        audioElement.src = URL.createObjectURL(audioBlob);  // 録音した音声を再生\n",
              "                    };\n",
              "                    audioChunks = [];\n",
              "                };\n",
              "                startBtn.disabled = false;\n",
              "                stopBtn.disabled = true;\n",
              "            }\n",
              "        </script>\n",
              "    "
            ]
          },
          "metadata": {}
        }
      ],
      "source": [
        "from IPython.display import display, HTML\n",
        "import base64\n",
        "import io\n",
        "import os\n",
        "\n",
        "# 録音用のダイアログを表示する関数\n",
        "def record_audio():\n",
        "    display(HTML('''\n",
        "        <button id=\"startBtn\" onclick=\"startRecording()\">録音開始</button>\n",
        "        <button id=\"stopBtn\" onclick=\"stopRecording()\" disabled>録音停止</button>\n",
        "        <audio id=\"audio\" controls></audio>\n",
        "        <script>\n",
        "            let mediaRecorder;\n",
        "            let audioChunks = [];\n",
        "            let audioElement = document.getElementById('audio');\n",
        "            let startBtn = document.getElementById('startBtn');\n",
        "            let stopBtn = document.getElementById('stopBtn');\n",
        "\n",
        "            async function startRecording() {\n",
        "                const stream = await navigator.mediaDevices.getUserMedia({ audio: true });\n",
        "                mediaRecorder = new MediaRecorder(stream);\n",
        "                mediaRecorder.start();\n",
        "                mediaRecorder.ondataavailable = event => {\n",
        "                    audioChunks.push(event.data);\n",
        "                };\n",
        "                startBtn.disabled = true;\n",
        "                stopBtn.disabled = false;\n",
        "            }\n",
        "\n",
        "            async function stopRecording() {\n",
        "                mediaRecorder.stop();\n",
        "                mediaRecorder.onstop = async () => {\n",
        "                    const audioBlob = new Blob(audioChunks, { type: 'audio/wav' });\n",
        "                    const reader = new FileReader();\n",
        "                    reader.readAsDataURL(audioBlob);  // Base64形式に変換\n",
        "                    reader.onloadend = function() {\n",
        "                        const base64data = reader.result.split(',')[1];  // Base64データ部分のみを取得\n",
        "                        google.colab.kernel.invokeFunction('recordedAudio', [base64data], {});\n",
        "                        audioElement.src = URL.createObjectURL(audioBlob);  // 録音した音声を再生\n",
        "                    };\n",
        "                    audioChunks = [];\n",
        "                };\n",
        "                startBtn.disabled = false;\n",
        "                stopBtn.disabled = true;\n",
        "            }\n",
        "        </script>\n",
        "    '''))\n",
        "\n",
        "# Python側で受け取る関数を定義\n",
        "from google.colab import output\n",
        "\n",
        "# 音声データを格納する変数\n",
        "audio_data = None\n",
        "\n",
        "def handle_recorded_audio(base64_audio):\n",
        "    global audio_data\n",
        "    audio_data = base64_audio  # 録音された音声をBase64形式で格納\n",
        "\n",
        "    # Base64形式のデータをデコードしてファイルに保存\n",
        "    audio_bytes = base64.b64decode(base64_audio)\n",
        "    with open('tmp.wav', 'wb') as f:\n",
        "        f.write(audio_bytes)\n",
        "\n",
        "    # FFmpegで音声を変換\n",
        "    os.system(\"ffmpeg -y -i tmp.wav -acodec pcm_s16le -ar 44100 recorded_audio.wav\")\n",
        "\n",
        "output.register_callback('recordedAudio', handle_recorded_audio)\n",
        "\n",
        "# 音声録音を開始\n",
        "record_audio()"
      ]
    }
  ]
}